{
  "nbformat": 4,
  "nbformat_minor": 0,
  "metadata": {
    "colab": {
      "provenance": [],
      "authorship_tag": "ABX9TyM6vAiWwn5FtjzD9x0Fnab2",
      "include_colab_link": true
    },
    "kernelspec": {
      "name": "python3",
      "display_name": "Python 3"
    },
    "language_info": {
      "name": "python"
    }
  },
  "cells": [
    {
      "cell_type": "markdown",
      "metadata": {
        "id": "view-in-github",
        "colab_type": "text"
      },
      "source": [
        "<a href=\"https://colab.research.google.com/github/RKSCOMPANY/AI-ArticleSummarizer/blob/main/ArticleSummarizer.ipynb\" target=\"_parent\"><img src=\"https://colab.research.google.com/assets/colab-badge.svg\" alt=\"Open In Colab\"/></a>"
      ]
    },
    {
      "cell_type": "code",
      "execution_count": null,
      "metadata": {
        "collapsed": true,
        "id": "lGhOmYTxkj1v"
      },
      "outputs": [],
      "source": [
        "!pip install -q\n",
        "!pip install newspaper3k\n",
        "!pip install python-dotenv\n",
        "!pip install langchain\n",
        "!pip install openai\n",
        "!pip install tiktoken\n",
        "!pip install langchain_community\n",
        "!pip install deeplake"
      ]
    },
    {
      "cell_type": "code",
      "source": [
        "import requests\n",
        "from newspaper import Article\n",
        "\n",
        "headers = {\n",
        "    'User-Agent': 'Mozilla/5.0 (Windows NT 10.0; Win64; x64) AppleWebKit/537.36 (KHTML, like Gecko) Chrome/89.0.4389.82 Safari/537.36'\n",
        "}\n",
        "\n",
        "article_url = \"https://www.webmd.com/a-to-z-guides/news/20240626/pack-the-bug-spray-dengue-fever-spikes-popular-travel-spots\"\n",
        "\n",
        "session = requests.Session()\n",
        "\n",
        "try:\n",
        "    response = session.get(article_url, headers=headers, timeout=10)\n",
        "\n",
        "    if response.status_code == 200:\n",
        "        article = Article(article_url)\n",
        "        article.download()\n",
        "        article.parse()\n",
        "\n",
        "        print(f\"Title: {article.title}\")\n",
        "        print(f\"Text: {article.text}\")\n",
        "\n",
        "    else:\n",
        "        print(f\"Failed to fetch article at {article_url}\")\n",
        "except Exception as e:\n",
        "    print(f\"Error occurred while fetching article at {article_url}: {e}\")"
      ],
      "metadata": {
        "colab": {
          "base_uri": "https://localhost:8080/"
        },
        "id": "4zsoRZKImYJ3",
        "outputId": "a7bd8e4a-8545-4c3e-9987-b71066be66e3"
      },
      "execution_count": null,
      "outputs": [
        {
          "output_type": "stream",
          "name": "stdout",
          "text": [
            "Title: Pack the Bug Spray: Dengue Fever Spikes in Popular Travel Spots\n",
            "Text: June 26, 2024 – A potentially deadly mosquito-borne illness sometimes called “breakbone fever” is reaching record levels this year across popular travel destinations worldwide.\n",
            "\n",
            "Formally known as dengue fever, the CDC issued an alert Tuesday to health care providers about the virus that causes the illness, urging them to be on the lookout for what may simply appear to be a fever and other run-of-the-mill symptoms like nausea and muscle aches.\n",
            "\n",
            "Diagnosing dengue fever is critical because some people with it will get severe complications like organ failure and blood vessel damage that can cause bleeding under the skin and from the gums of the mouth.\n",
            "\n",
            "Already this year, 745 U.S. travelers have been diagnosed with dengue fever, according to the CDC. Through the first half of this year, the number of cases recorded in countries in the Americas has surpassed 9.7 million, which is double the case count for all of 2023, the CDC alert stated. The virus has infected about 1,500 people in the U.S. territory of Puerto Rico, prompting officials there to declare a public health emergency.\n"
          ]
        }
      ]
    },
    {
      "cell_type": "code",
      "source": [
        "from langchain.schema import (\n",
        "    HumanMessage\n",
        ")\n",
        "\n",
        "# we get the article data from the scraping part\n",
        "article_title = article.title\n",
        "article_text = article.text\n",
        "\n",
        "# prepare template for prompt\n",
        "template = \"\"\"You are a very good assistant that summarizes online articles.\n",
        "\n",
        "Here's the article you want to summarize.\n",
        "\n",
        "==================\n",
        "Title: {article_title}\n",
        "\n",
        "{article_text}\n",
        "==================\n",
        "\n",
        "Write a summary of the previous article.\n",
        "\"\"\"\n",
        "\n",
        "prompt = template.format(article_title=article.title, article_text=article.text)\n",
        "\n",
        "messages = [HumanMessage(content=prompt)]"
      ],
      "metadata": {
        "id": "9SQtTnBvnIf3"
      },
      "execution_count": null,
      "outputs": []
    },
    {
      "cell_type": "code",
      "source": [
        "import os\n",
        "import openai\n",
        "from langchain.chat_models import ChatOpenAI\n",
        "\n",
        "os.environ[\"OPENAI_API_KEY\"] = \"Open-API-KEY\"\n",
        "\n",
        "# Retrieve the API key from the environment variable\n",
        "openai.api_key = os.getenv(\"OPENAI_API_KEY\")\n",
        "\n",
        "# load the model\n",
        "chat = ChatOpenAI(model_name=\"gpt-4\", temperature=0)\n",
        "\n",
        "# generate summary\n",
        "summary = chat(messages)\n",
        "print(summary.content)"
      ],
      "metadata": {
        "colab": {
          "base_uri": "https://localhost:8080/"
        },
        "id": "8N_mIfmhnTZP",
        "outputId": "a302a196-ae8a-4fbd-e111-19402a7ce393"
      },
      "execution_count": null,
      "outputs": [
        {
          "output_type": "stream",
          "name": "stderr",
          "text": [
            "/usr/local/lib/python3.10/dist-packages/langchain_core/_api/deprecation.py:139: LangChainDeprecationWarning: The class `ChatOpenAI` was deprecated in LangChain 0.0.10 and will be removed in 0.3.0. An updated version of the class exists in the langchain-openai package and should be used instead. To use it run `pip install -U langchain-openai` and import as `from langchain_openai import ChatOpenAI`.\n",
            "  warn_deprecated(\n",
            "/usr/local/lib/python3.10/dist-packages/langchain_core/_api/deprecation.py:139: LangChainDeprecationWarning: The method `BaseChatModel.__call__` was deprecated in langchain-core 0.1.7 and will be removed in 0.3.0. Use invoke instead.\n",
            "  warn_deprecated(\n"
          ]
        },
        {
          "output_type": "stream",
          "name": "stdout",
          "text": [
            "Dengue fever, a potentially deadly mosquito-borne illness, is reaching record levels in popular travel destinations worldwide. The CDC has issued an alert to health care providers to be vigilant for symptoms such as fever, nausea, and muscle aches. The disease can lead to severe complications like organ failure and blood vessel damage. So far this year, 745 U.S. travelers have been diagnosed with dengue fever. The number of cases in the Americas has exceeded 9.7 million, doubling the total for 2023. In Puerto Rico, where about 1,500 people have been infected, officials have declared a public health emergency.\n"
          ]
        }
      ]
    },
    {
      "cell_type": "code",
      "source": [
        "# prepare template for prompt\n",
        "template1 = \"\"\"You are an advanced AI assistant that summarizes online articles into bulleted lists.\n",
        "\n",
        "Here's the article you need to summarize.\n",
        "\n",
        "==================\n",
        "Title: {article_title}\n",
        "\n",
        "{article_text}\n",
        "==================\n",
        "\n",
        "Now, provide a summarized version of the article in a bulleted list format.\n",
        "\"\"\"\n",
        "\n",
        "# format prompt\n",
        "prompt = template1.format(article_title=article.title, article_text=article.text)\n",
        "\n",
        "# generate summary\n",
        "summary = chat([HumanMessage(content=prompt)])\n",
        "print(summary.content)"
      ],
      "metadata": {
        "colab": {
          "base_uri": "https://localhost:8080/"
        },
        "id": "YKgzf4yVnzqy",
        "outputId": "fb4dff9d-838e-4444-ceaf-1c1805b68959"
      },
      "execution_count": null,
      "outputs": [
        {
          "output_type": "stream",
          "name": "stdout",
          "text": [
            "- Dengue fever, also known as \"breakbone fever\", is reaching record levels in popular travel destinations worldwide.\n",
            "- The CDC has issued an alert to health care providers about the virus, urging them to be vigilant for symptoms such as fever, nausea, and muscle aches.\n",
            "- Diagnosing dengue fever is crucial as it can lead to severe complications like organ failure and blood vessel damage, causing bleeding under the skin and from the gums.\n",
            "- So far this year, 745 U.S. travelers have been diagnosed with dengue fever.\n",
            "- In the first half of this year, the number of cases in the Americas has exceeded 9.7 million, doubling the total case count for 2023.\n",
            "- The virus has infected about 1,500 people in Puerto Rico, leading officials to declare a public health emergency.\n"
          ]
        }
      ]
    }
  ]
}